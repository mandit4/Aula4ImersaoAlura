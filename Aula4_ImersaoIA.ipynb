{
  "nbformat": 4,
  "nbformat_minor": 0,
  "metadata": {
    "colab": {
      "provenance": [],
      "authorship_tag": "ABX9TyOCst3VI4lbMiOFyQhwlt9N",
      "include_colab_link": true
    },
    "kernelspec": {
      "name": "python3",
      "display_name": "Python 3"
    },
    "language_info": {
      "name": "python"
    }
  },
  "cells": [
    {
      "cell_type": "markdown",
      "metadata": {
        "id": "view-in-github",
        "colab_type": "text"
      },
      "source": [
        "<a href=\"https://colab.research.google.com/github/mandit4/Aula4ImersaoAlura/blob/main/Aula4_ImersaoIA.ipynb\" target=\"_parent\"><img src=\"https://colab.research.google.com/assets/colab-badge.svg\" alt=\"Open In Colab\"/></a>"
      ]
    },
    {
      "cell_type": "markdown",
      "source": [
        "Instalando o pacote SDK de Python para o Gemini API"
      ],
      "metadata": {
        "id": "mLBjadP1ET6l"
      }
    },
    {
      "cell_type": "code",
      "execution_count": 1,
      "metadata": {
        "id": "A2CA47pMEMwj"
      },
      "outputs": [],
      "source": [
        "!pip install -q -U google-generativeai"
      ]
    },
    {
      "cell_type": "markdown",
      "source": [
        "Setando a nossa API key"
      ],
      "metadata": {
        "id": "rkccjRDIEd_X"
      }
    },
    {
      "cell_type": "code",
      "source": [
        "import google.generativeai as genai # Importa a biblioteca generativeai do Google\n",
        "from google.colab import userdata # Importa a biblioteca userdata do Google Colab\n",
        "\n",
        "minha_chave = userdata.get('SECRET_KEY') # Armazena a minha api key na variavel google api key\n",
        "genai.configure(api_key=minha_chave) # Configura a biblioteca generativeai com a chave da API"
      ],
      "metadata": {
        "id": "AjmgipjCE8xc"
      },
      "execution_count": 11,
      "outputs": []
    },
    {
      "cell_type": "markdown",
      "source": [
        "Setando modelos disponíveis: Com isso, podemos escolher de todas as versões qual vamos utilizar"
      ],
      "metadata": {
        "id": "24av0EMZFt5N"
      }
    },
    {
      "cell_type": "code",
      "source": [
        "for m in genai.list_models():\n",
        "  if 'generateContent' in m.supported_generation_methods:\n",
        "    print(m.name)\n",
        "# última versão estável são as latest"
      ],
      "metadata": {
        "colab": {
          "base_uri": "https://localhost:8080/",
          "height": 145
        },
        "id": "mENxErupFzob",
        "outputId": "5d8395ae-b4fe-42b8-c858-024f103a458d"
      },
      "execution_count": 5,
      "outputs": [
        {
          "output_type": "stream",
          "name": "stdout",
          "text": [
            "models/gemini-1.0-pro\n",
            "models/gemini-1.0-pro-001\n",
            "models/gemini-1.0-pro-latest\n",
            "models/gemini-1.0-pro-vision-latest\n",
            "models/gemini-1.5-pro-latest\n",
            "models/gemini-pro\n",
            "models/gemini-pro-vision\n"
          ]
        }
      ]
    },
    {
      "cell_type": "markdown",
      "source": [
        "Setando as configurações do modelo"
      ],
      "metadata": {
        "id": "r0yEXXpJHydc"
      }
    },
    {
      "cell_type": "code",
      "source": [
        "generation_config = {\n",
        "  'candidate_count': 1,\n",
        "  'temperature': 0.5\n",
        "}\n",
        "\n",
        "safety_settings = {\n",
        "    'harassment': 'block_none',\n",
        "    'hate': 'block_none',\n",
        "    'sexual': 'block_none',\n",
        "    'dangerous': 'block_none',\n",
        "}"
      ],
      "metadata": {
        "id": "U7Fb2Nf5I6R8"
      },
      "execution_count": 6,
      "outputs": []
    },
    {
      "cell_type": "markdown",
      "source": [
        "Inicializando nosso modelo"
      ],
      "metadata": {
        "id": "ehXERwRqJ5cS"
      }
    },
    {
      "cell_type": "code",
      "source": [
        "model = genai.GenerativeModel(model_name='gemini-1.0-pro', generation_config=generation_config, safety_settings=safety_settings)"
      ],
      "metadata": {
        "id": "wSCDpmy1J_LN"
      },
      "execution_count": 7,
      "outputs": []
    },
    {
      "cell_type": "markdown",
      "source": [
        "Solicitando um texto gerado pela IA"
      ],
      "metadata": {
        "id": "zMqDyXhZK0yP"
      }
    },
    {
      "cell_type": "code",
      "source": [
        "response = model.generate_content(\"Escreva uma frase curta que defina o que é Inteligência Artificial\")\n",
        "print(response.text)"
      ],
      "metadata": {
        "colab": {
          "base_uri": "https://localhost:8080/",
          "height": 35
        },
        "id": "-JiE0d7oK38K",
        "outputId": "9ac4a529-0002-4064-8270-4e1109f7d79b"
      },
      "execution_count": 8,
      "outputs": [
        {
          "output_type": "stream",
          "name": "stdout",
          "text": [
            "IA: Sistemas computacionais que imitam a inteligência humana.\n"
          ]
        }
      ]
    },
    {
      "cell_type": "markdown",
      "source": [
        "Criando um chat"
      ],
      "metadata": {
        "id": "Ioe7YKKxLWA5"
      }
    },
    {
      "cell_type": "code",
      "source": [
        "chat = model.start_chat(history=[])\n",
        "\n",
        "prompt = input('Esperando o prompt:')\n",
        "\n",
        "while prompt != 'fim':\n",
        "  response = chat.send_message(prompt)\n",
        "  print('Resporta: ', response.text, '\\n]')\n",
        "  prompt = input('Esperando o prompt:')"
      ],
      "metadata": {
        "colab": {
          "base_uri": "https://localhost:8080/",
          "height": 200
        },
        "id": "eubPRsVoLb2q",
        "outputId": "dc76379b-6dfa-4ba4-fb94-32918f428a74"
      },
      "execution_count": 10,
      "outputs": [
        {
          "name": "stdout",
          "output_type": "stream",
          "text": [
            "Esperando o prompt:Qual é a capital do Brasil?\n",
            "Resporta:  Brasília \n",
            "\n",
            "Esperando o prompt:Qual é a comida típica desse país?\n",
            "Resporta:  Feijoada \n",
            "\n",
            "Esperando o prompt:E a comida típica dessa cidade?\n",
            "Resporta:  Pastel de Belém \n",
            "\n",
            "Esperando o prompt:fim\n"
          ]
        }
      ]
    },
    {
      "cell_type": "markdown",
      "source": [
        "📝 Desafio:\n",
        "- É o que eu quiser\n",
        "\n",
        "✅ Regras:\n",
        "- Tem que ter relação com o que foi abordado na imersão, um chat bot por exemplo\n",
        "- É obrigatório usar a API do Google Gemini\n",
        "- Pode ser criado quantos projetos eu quiser que deverá ser manadado como projetos apartados pelo Google forms\n",
        "- criatividade\n",
        "- eficaz\n",
        "- apresentação (explicação, imagem bonita)"
      ],
      "metadata": {
        "id": "-L2dK5dcNmOT"
      }
    }
  ]
}